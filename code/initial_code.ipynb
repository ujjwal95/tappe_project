{
 "cells": [
  {
   "cell_type": "markdown",
   "metadata": {},
   "source": [
    "### Import Libraries"
   ]
  },
  {
   "cell_type": "code",
   "execution_count": 1,
   "metadata": {},
   "outputs": [],
   "source": [
    "import numpy as np\n",
    "import os\n",
    "import pandas as pd\n",
    "import inflect\n",
    "# next we can import some sklearn libraries to start working with stuff\n",
    "## transformers and pipline\n",
    "from sklearn.compose import ColumnTransformer\n",
    "from sklearn.pipeline import Pipeline, FeatureUnion\n",
    "## model selectors\n",
    "from sklearn.model_selection import train_test_split, cross_val_score\n",
    "## models\n",
    "from sklearn.svm import LinearSVC\n",
    "from sklearn.ensemble import RandomForestClassifier\n",
    "## feature extarctors\n",
    "from sklearn.preprocessing import OneHotEncoder\n",
    "from average_word_length_extractor import AverageWordLengthExtractor\n",
    "from question_extractor import QuestionExtractor\n",
    "from int_to_words_extractor import NumberStringExtractor\n",
    "from sklearn.feature_extraction.text import TfidfVectorizer, CountVectorizer"
   ]
  },
  {
   "cell_type": "markdown",
   "metadata": {},
   "source": [
    "### Reading data"
   ]
  },
  {
   "cell_type": "code",
   "execution_count": 2,
   "metadata": {},
   "outputs": [],
   "source": [
    "# read data\n",
    "data = pd.read_excel('../data/sample_data/EaxampleData.xlsx')"
   ]
  },
  {
   "cell_type": "code",
   "execution_count": 3,
   "metadata": {},
   "outputs": [],
   "source": [
    "# convert yes to True(1) and no to False(0)\n",
    "data = data.replace(to_replace={'yes': 1, 'no': 0})"
   ]
  },
  {
   "cell_type": "code",
   "execution_count": 4,
   "metadata": {},
   "outputs": [],
   "source": [
    "# features over which we have to predict\n",
    "prediction_columns = ['stringedQuestion',\n",
    "                   'leading', 'Symptom', 'PMH', 'MEDS', 'ALLG', 'FAMHx', 'lifestyle',\n",
    "                   'pysch', 'SOCHx', 'sexualHistory', 'substanceUse', 'PE', 'FORM',\n",
    "                   'supportProvision', 'transition']"
   ]
  },
  {
   "cell_type": "code",
   "execution_count": 5,
   "metadata": {},
   "outputs": [],
   "source": [
    "# extract numerical columns\n",
    "numerical_columns = data.select_dtypes(np.number).columns"
   ]
  },
  {
   "cell_type": "code",
   "execution_count": 6,
   "metadata": {},
   "outputs": [],
   "source": [
    "def add_patient_physician_interactions(data, numerical_columns):\n",
    "    assert type(data) == pandas.core.frame.DataFrame\n",
    "    # to combine data from two columns\n",
    "    comm_df = pd.DataFrame({'original_semantics': data['semanticType'],\n",
    "                            'shifted_semantics' : data['semanticType'].shift(-1),\n",
    "                            'original_speaker': data['speakerID'],\n",
    "                            'shifted_speaker': data['speakerID'].shift(-1)}, index=data.index)\n",
    "\n",
    "    \n",
    "    data['comparisons'] = comm_df.apply(lambda x: 1 if (x.original_semantics in ['openQuestion', 'question']) and \n",
    "                  (x.shifted_semantics == 'statement') and\n",
    "                  (x.original_speaker == 'doctor') and\n",
    "                  (x.shifted_speaker == 'patient') else 0, axis = 1)\n",
    "\n",
    "#     data.head()\n",
    "    indexes = data.loc[data.comparisons == 1].index \n",
    "    data.loc[data.comparisons == 1,numerical_columns] = data.loc[data.comparisons == 1, numerical_columns] + data[numerical_columns].shift(-1).iloc[indexes,:]\n",
    "#     [numerical_columns] = data[numerical_columns].shift(-1)\n",
    "    return data"
   ]
  },
  {
   "cell_type": "code",
   "execution_count": 9,
   "metadata": {},
   "outputs": [],
   "source": [
    "# extract doctor interactions\n",
    "complete_data = data.loc[data.speakerID == 'doctor']"
   ]
  },
  {
   "cell_type": "markdown",
   "metadata": {},
   "source": [
    "### Feature Engineering"
   ]
  },
  {
   "cell_type": "code",
   "execution_count": 10,
   "metadata": {},
   "outputs": [],
   "source": [
    "# select columns by data\n",
    "complete_data.drop(prediction_columns, inplace=True, axis=1)\n",
    "unusable_columns = ['speakerID']\n",
    "complete_data.drop(unusable_columns, inplace=True, axis=1)\n",
    "# select x and y\n",
    "X = complete_data\n",
    "y = data.loc[complete_data.index, data.columns == prediction_columns[2]]\n",
    "# split into train and test\n",
    "X_train, X_test, y_train, y_test = train_test_split(X, y, test_size=0.33, random_state=42, stratify = y)"
   ]
  },
  {
   "cell_type": "code",
   "execution_count": 12,
   "metadata": {},
   "outputs": [],
   "source": [
    "ngram_count = CountVectorizer(ngram_range=(1, 3), analyzer='char')\n",
    "avg_word = AverageWordLengthExtractor()\n",
    "question_ex = QuestionExtractor()\n",
    "one_hot_encoder = OneHotEncoder(handle_unknown='ignore')\n",
    "numberstring= NumberStringExtractor()"
   ]
  },
  {
   "cell_type": "markdown",
   "metadata": {},
   "source": [
    "## Modelling"
   ]
  },
  {
   "cell_type": "code",
   "execution_count": 51,
   "metadata": {},
   "outputs": [],
   "source": [
    "#convert numbers to text\n",
    "num_to_str = ColumnTransformer([\n",
    "    ('numberstring', numberstring, 3)\n",
    "], remainder='passthrough')\n",
    "\n",
    "# text encoders\n",
    "encoders = ColumnTransformer([\n",
    "    ('ngram', ngram_count, 0),\n",
    "    ('avg_word', avg_word, 0),\n",
    "    ('question', question_ex, 0)\n",
    "], remainder = 'passthrough')\n",
    "\n",
    "# one hot encoding\n",
    "one_hot = ColumnTransformer([\n",
    "    ('one_hot', one_hot_encoder, ['semanticType'])\n",
    "], remainder = 'passthrough')\n",
    "\n",
    "# text pipeline\n",
    "text_features = Pipeline([\n",
    "    ('num_to_str', num_to_str),\n",
    "    ('encoders', encoders)\n",
    "])\n",
    "\n",
    "# preprocessing\n",
    "preprocess = Pipeline([\n",
    "    ('one_hot_encoder', one_hot),\n",
    "    ('text_feat', text_features)\n",
    "])\n",
    "\n",
    "# ml pipeline\n",
    "ml_pipeline = Pipeline([\n",
    "    ('preprocessor', preprocess),\n",
    "    ('model', RandomForestClassifier(n_estimators = 100))\n",
    "])"
   ]
  },
  {
   "cell_type": "code",
   "execution_count": 52,
   "metadata": {},
   "outputs": [
    {
     "name": "stderr",
     "output_type": "stream",
     "text": [
      "/anaconda3/envs/aml/lib/python3.6/site-packages/sklearn/pipeline.py:267: DataConversionWarning: A column-vector y was passed when a 1d array was expected. Please change the shape of y to (n_samples,), for example using ravel().\n",
      "  self._final_estimator.fit(Xt, y, **fit_params)\n",
      "/anaconda3/envs/aml/lib/python3.6/site-packages/sklearn/pipeline.py:267: DataConversionWarning: A column-vector y was passed when a 1d array was expected. Please change the shape of y to (n_samples,), for example using ravel().\n",
      "  self._final_estimator.fit(Xt, y, **fit_params)\n",
      "/anaconda3/envs/aml/lib/python3.6/site-packages/sklearn/pipeline.py:267: DataConversionWarning: A column-vector y was passed when a 1d array was expected. Please change the shape of y to (n_samples,), for example using ravel().\n",
      "  self._final_estimator.fit(Xt, y, **fit_params)\n",
      "/anaconda3/envs/aml/lib/python3.6/site-packages/sklearn/pipeline.py:267: DataConversionWarning: A column-vector y was passed when a 1d array was expected. Please change the shape of y to (n_samples,), for example using ravel().\n",
      "  self._final_estimator.fit(Xt, y, **fit_params)\n",
      "/anaconda3/envs/aml/lib/python3.6/site-packages/sklearn/pipeline.py:267: DataConversionWarning: A column-vector y was passed when a 1d array was expected. Please change the shape of y to (n_samples,), for example using ravel().\n",
      "  self._final_estimator.fit(Xt, y, **fit_params)\n",
      "/anaconda3/envs/aml/lib/python3.6/site-packages/sklearn/pipeline.py:267: DataConversionWarning: A column-vector y was passed when a 1d array was expected. Please change the shape of y to (n_samples,), for example using ravel().\n",
      "  self._final_estimator.fit(Xt, y, **fit_params)\n",
      "/anaconda3/envs/aml/lib/python3.6/site-packages/sklearn/pipeline.py:267: DataConversionWarning: A column-vector y was passed when a 1d array was expected. Please change the shape of y to (n_samples,), for example using ravel().\n",
      "  self._final_estimator.fit(Xt, y, **fit_params)\n",
      "/anaconda3/envs/aml/lib/python3.6/site-packages/sklearn/pipeline.py:267: DataConversionWarning: A column-vector y was passed when a 1d array was expected. Please change the shape of y to (n_samples,), for example using ravel().\n",
      "  self._final_estimator.fit(Xt, y, **fit_params)\n",
      "/anaconda3/envs/aml/lib/python3.6/site-packages/sklearn/pipeline.py:267: DataConversionWarning: A column-vector y was passed when a 1d array was expected. Please change the shape of y to (n_samples,), for example using ravel().\n",
      "  self._final_estimator.fit(Xt, y, **fit_params)\n",
      "/anaconda3/envs/aml/lib/python3.6/site-packages/sklearn/pipeline.py:267: DataConversionWarning: A column-vector y was passed when a 1d array was expected. Please change the shape of y to (n_samples,), for example using ravel().\n",
      "  self._final_estimator.fit(Xt, y, **fit_params)\n"
     ]
    },
    {
     "data": {
      "text/plain": [
       "0.8483333333333334"
      ]
     },
     "execution_count": 52,
     "metadata": {},
     "output_type": "execute_result"
    }
   ],
   "source": [
    "cross_val_score(ml_pipeline, X_train, y_train, cv = 10).mean()"
   ]
  },
  {
   "cell_type": "code",
   "execution_count": null,
   "metadata": {},
   "outputs": [],
   "source": []
  },
  {
   "cell_type": "code",
   "execution_count": null,
   "metadata": {},
   "outputs": [],
   "source": []
  },
  {
   "cell_type": "code",
   "execution_count": null,
   "metadata": {},
   "outputs": [],
   "source": []
  },
  {
   "cell_type": "code",
   "execution_count": null,
   "metadata": {},
   "outputs": [],
   "source": []
  },
  {
   "cell_type": "code",
   "execution_count": null,
   "metadata": {},
   "outputs": [],
   "source": []
  },
  {
   "cell_type": "code",
   "execution_count": null,
   "metadata": {},
   "outputs": [],
   "source": []
  }
 ],
 "metadata": {
  "kernelspec": {
   "display_name": "Python 3",
   "language": "python",
   "name": "python3"
  },
  "language_info": {
   "codemirror_mode": {
    "name": "ipython",
    "version": 3
   },
   "file_extension": ".py",
   "mimetype": "text/x-python",
   "name": "python",
   "nbconvert_exporter": "python",
   "pygments_lexer": "ipython3",
   "version": "3.6.8"
  }
 },
 "nbformat": 4,
 "nbformat_minor": 2
}
